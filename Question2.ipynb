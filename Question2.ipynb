{
 "cells": [
  {
   "cell_type": "code",
   "execution_count": 38,
   "metadata": {},
   "outputs": [],
   "source": [
    "import torch"
   ]
  },
  {
   "cell_type": "code",
   "execution_count": 39,
   "metadata": {},
   "outputs": [
    {
     "name": "stdout",
     "output_type": "stream",
     "text": [
      "1.12.1\n"
     ]
    }
   ],
   "source": [
    "print(torch.__version__)"
   ]
  },
  {
   "cell_type": "code",
   "execution_count": 40,
   "metadata": {},
   "outputs": [
    {
     "data": {
      "text/plain": [
       "False"
      ]
     },
     "execution_count": 40,
     "metadata": {},
     "output_type": "execute_result"
    }
   ],
   "source": [
    "torch.cuda.is_available()"
   ]
  },
  {
   "cell_type": "code",
   "execution_count": 41,
   "metadata": {},
   "outputs": [
    {
     "name": "stdout",
     "output_type": "stream",
     "text": [
      "cpu\n"
     ]
    }
   ],
   "source": [
    "device=torch.device('cuda' if torch.cuda.is_available() else 'cpu')\n",
    "print(device)\n",
    "\n",
    "if device.type=='cuda':\n",
    "    print(torch.cuda.get_device_name(0))"
   ]
  },
  {
   "cell_type": "code",
   "execution_count": 42,
   "metadata": {},
   "outputs": [
    {
     "data": {
      "text/plain": [
       "device(type='cpu')"
      ]
     },
     "execution_count": 42,
     "metadata": {},
     "output_type": "execute_result"
    }
   ],
   "source": [
    "CLASSES=10\n",
    "device=torch.device('cuda' if torch.cuda.is_available() else 'cpu')\n",
    "device"
   ]
  },
  {
   "cell_type": "code",
   "execution_count": 43,
   "metadata": {},
   "outputs": [],
   "source": [
    "import torch\n",
    "import torchvision\n",
    "import torchvision.datasets as datasets\n",
    "import torchvision.transforms as transforms\n",
    "import torch.optim as optim\n",
    "import torch.nn as nn\n",
    "import torch.nn.functional as F\n",
    "#import matplotlib.pyplot as plt\n",
    "import numpy as np"
   ]
  },
  {
   "cell_type": "code",
   "execution_count": 44,
   "metadata": {},
   "outputs": [],
   "source": [
    "class Net(nn.Module):\n",
    "    def __init__(self):\n",
    "        super().__init__()\n",
    "        self.conv1 = nn.Conv2d(in_channels=1,out_channels=96,kernel_size=11,stride=4,padding=0)\n",
    "\n",
    "        self.conv2 = nn.Conv2d(in_channels=96,out_channels=96,kernel_size=1)\n",
    "        \n",
    "        self.conv3=nn.Conv2d(in_channels=96,out_channels=96,kernel_size=1)\n",
    "        \n",
    "        self.pool3 = nn.MaxPool2d(kernel_size=3,stride=2)\n",
    "\n",
    "        self.conv4=nn.Conv2d(in_channels=96,out_channels=256,kernel_size=11,stride=4,padding=2)\n",
    "\n",
    "        self.conv5=nn.Conv2d(in_channels=256,out_channels=256,kernel_size=1)\n",
    "\n",
    "        self.conv6=nn.Conv2d(in_channels=256,out_channels=256,kernel_size=1)\n",
    "        \n",
    "        self.pool6 = nn.MaxPool2d(kernel_size=3,stride=2)\n",
    "\n",
    "        self.conv7=nn.Conv2d(in_channels=256,out_channels=384,kernel_size=3,stride=1,padding=1)\n",
    "\n",
    "        self.conv8=nn.Conv2d(in_channels=384,out_channels=384,kernel_size=1)\n",
    "\n",
    "        self.conv9=nn.Conv2d(in_channels=384,out_channels=384,kernel_size=1)\n",
    "\n",
    "        self.fc1 = nn.Linear(in_features=(384*2*2),out_features=4096)\n",
    "\n",
    "        self.fc2 = nn.Linear(in_features=4096,out_features=4096)\n",
    "\n",
    "        self.fc3 = nn.Linear(in_features=4096,out_features=CLASSES)\n",
    "\n",
    "    def forward(self, x):\n",
    "        x = F.relu(self.conv1(x))\n",
    "\n",
    "        x = F.relu(self.conv2(x))\n",
    "\n",
    "        x = self.pool3(F.relu(self.conv3(x)))\n",
    "        x = F.dropout(x, 0.5)\n",
    "\n",
    "        x = F.relu(self.conv4(x))\n",
    "\n",
    "        x = F.relu(self.conv5(x))\n",
    "\n",
    "        x = self.pool6(F.relu(self.conv6(x)))\n",
    "        x = F.dropout(x, 0.5)\n",
    "\n",
    "        x = F.relu(self.conv7(x))\n",
    "\n",
    "        x = F.relu(self.conv8(x))\n",
    "\n",
    "        x = F.relu(self.conv9(x))\n",
    "        x = F.dropout(x, 0.5)\n",
    "\n",
    "        x = torch.flatten(x, 1) # flatten all dimensions except batch\n",
    "        \n",
    "        x = F.relu(self.fc1(x))\n",
    "        x = F.dropout(x, 0.5)\n",
    "\n",
    "        x = F.relu(self.fc2(x))\n",
    "        x = F.dropout(x, 0.5)\n",
    "\n",
    "        x = self.fc3(x)\n",
    "        \n",
    "        return x"
   ]
  },
  {
   "cell_type": "code",
   "execution_count": 45,
   "metadata": {},
   "outputs": [],
   "source": [
    "transform_conf=transforms.Compose([\n",
    "    transforms.Resize((224,224)),\n",
    "    transforms.ToTensor(),\n",
    "    transforms.Normalize((0.1307,),(0.3081,))\n",
    "])"
   ]
  },
  {
   "cell_type": "code",
   "execution_count": 46,
   "metadata": {},
   "outputs": [],
   "source": [
    "BATCH_SIZE=16\n",
    "train_dataset=datasets.MNIST('Users/saedunu/Healthcare/Assignments/Assignment2/MNIST_Data/',train=True,download=True,transform=transform_conf,)\n",
    "test_dataset=datasets.MNIST('Users/saedunu/Healthcare/Assignments/Assignment2/MNIST_Data/',train=False,download=True,transform=transform_conf)"
   ]
  },
  {
   "cell_type": "code",
   "execution_count": 47,
   "metadata": {},
   "outputs": [],
   "source": [
    "num_classes = 10\n",
    "\n",
    "unique_labels = np.unique(train_dataset.targets.numpy())\n",
    "if len(unique_labels) != num_classes:\n",
    "    raise ValueError(\"Number of unique class labels in the dataset does not match num_classes.\")\n"
   ]
  },
  {
   "cell_type": "code",
   "execution_count": 48,
   "metadata": {},
   "outputs": [],
   "source": [
    "train_loader=torch.utils.data.DataLoader(train_dataset,batch_size=BATCH_SIZE,shuffle=True)\n",
    "test_loader=torch.utils.data.DataLoader(test_dataset,batch_size=BATCH_SIZE,shuffle=True)"
   ]
  },
  {
   "cell_type": "code",
   "execution_count": 49,
   "metadata": {},
   "outputs": [],
   "source": [
    "model=Net().to(device)\n",
    "optimizer=optim.Adam(params=model.parameters(),lr=0.0001)\n",
    "loss_fn = nn.CrossEntropyLoss()"
   ]
  },
  {
   "cell_type": "code",
   "execution_count": 50,
   "metadata": {},
   "outputs": [],
   "source": [
    "def train(model,device,train_loader,optimizer,epochs):\n",
    "    print(\"inside train\")\n",
    "    model.train()\n",
    "    for batch_ids, (img, classes) in enumerate(train_loader):\n",
    "        #print(classes.shape)\n",
    "        classes=classes.type(torch.LongTensor)\n",
    "        img,classes=img.to(device),classes.to(device)\n",
    "        torch.autograd.set_detect_anomaly(True)     \n",
    "        optimizer.zero_grad()\n",
    "        output=model(img)\n",
    "        #print(output.shape)\n",
    "        #--------------------\n",
    "        expected_shape = (img.shape[0], num_classes)\n",
    "        if output.shape != expected_shape:\n",
    "            raise ValueError(f\"Output shape {output.shape} does not match expected shape {expected_shape}.\")\n",
    "        #------------------\n",
    "        loss = loss_fn(output,classes)                \n",
    "        \n",
    "        loss.backward()\n",
    "        optimizer.step()\n",
    "    if(batch_ids +1) % 2 == 0:\n",
    "        print(\"Train Epoch: {} [{}/{} ({:.0f}%)]\\tLoss: {:.6f}\".format(\n",
    "            epochs, batch_ids* len(img), len(train_loader.dataset),\n",
    "            100.*batch_ids / len(train_loader),loss.item()))"
   ]
  },
  {
   "cell_type": "code",
   "execution_count": 51,
   "metadata": {},
   "outputs": [],
   "source": [
    "def test(model, device, test_loader):\n",
    "    model.eval()\n",
    "    test_loss=0\n",
    "    correct=0\n",
    "    with torch.no_grad():\n",
    "        for img,classes in test_loader:\n",
    "            img,classes=img.to(device), classes.to(device)\n",
    "            y_hat=model(img)\n",
    "            #print(y_hat.shape)\n",
    "            test_loss+=F.nll_loss(y_hat,classes,reduction='sum').item()\n",
    "            _,y_pred=torch.max(y_hat,1)\n",
    "            correct+=(y_pred==classes).sum().item()\n",
    "        test_loss/=len(test_dataset)\n",
    "        print(\"\\n Test set: Avarage loss: {:.0f},Accuracy:{}/{} ({:.0f}%)\\n\".format(\n",
    "            test_loss,correct,len(test_dataset),100.*correct/len(test_dataset)))\n",
    "        print('='*30)"
   ]
  },
  {
   "cell_type": "code",
   "execution_count": 52,
   "metadata": {},
   "outputs": [
    {
     "name": "stdout",
     "output_type": "stream",
     "text": [
      "inside train\n",
      "Train Epoch: 1 [59984/60000 (100%)]\tLoss: 0.012603\n",
      "\n",
      " Test set: Avarage loss: -7,Accuracy:9710/10000 (97%)\n",
      "\n",
      "==============================\n",
      "inside train\n",
      "Train Epoch: 2 [59984/60000 (100%)]\tLoss: 0.019366\n",
      "\n",
      " Test set: Avarage loss: -7,Accuracy:9792/10000 (98%)\n",
      "\n",
      "==============================\n"
     ]
    }
   ],
   "source": [
    "if __name__=='__main__':\n",
    "    seed=42\n",
    "    EPOCHS=2\n",
    "    \n",
    "    for epoch in range(1,EPOCHS+1):\n",
    "        train(model,device,train_loader,optimizer,epoch)\n",
    "        test(model,device,test_loader)"
   ]
  },
  {
   "cell_type": "code",
   "execution_count": null,
   "metadata": {},
   "outputs": [],
   "source": []
  }
 ],
 "metadata": {
  "kernelspec": {
   "display_name": "Python 3 (ipykernel)",
   "language": "python",
   "name": "python3"
  },
  "language_info": {
   "codemirror_mode": {
    "name": "ipython",
    "version": 3
   },
   "file_extension": ".py",
   "mimetype": "text/x-python",
   "name": "python",
   "nbconvert_exporter": "python",
   "pygments_lexer": "ipython3",
   "version": "3.9.18"
  }
 },
 "nbformat": 4,
 "nbformat_minor": 2
}
